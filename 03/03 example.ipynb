{
 "cells": [
  {
   "cell_type": "code",
   "execution_count": 9,
   "metadata": {},
   "outputs": [],
   "source": [
    "import pandas as pd\n",
    "import string"
   ]
  },
  {
   "cell_type": "code",
   "execution_count": 10,
   "metadata": {},
   "outputs": [
    {
     "data": {
      "text/html": [
       "<div>\n",
       "<style scoped>\n",
       "    .dataframe tbody tr th:only-of-type {\n",
       "        vertical-align: middle;\n",
       "    }\n",
       "\n",
       "    .dataframe tbody tr th {\n",
       "        vertical-align: top;\n",
       "    }\n",
       "\n",
       "    .dataframe thead th {\n",
       "        text-align: right;\n",
       "    }\n",
       "</style>\n",
       "<table border=\"1\" class=\"dataframe\">\n",
       "  <thead>\n",
       "    <tr style=\"text-align: right;\">\n",
       "      <th></th>\n",
       "      <th>input_string</th>\n",
       "    </tr>\n",
       "  </thead>\n",
       "  <tbody>\n",
       "    <tr>\n",
       "      <th>0</th>\n",
       "      <td>vJrwpWtwJgWrhcsFMMfFFhFp</td>\n",
       "    </tr>\n",
       "    <tr>\n",
       "      <th>1</th>\n",
       "      <td>jqHRNqRjqzjGDLGLrsFMfFZSrLrFZsSL</td>\n",
       "    </tr>\n",
       "    <tr>\n",
       "      <th>2</th>\n",
       "      <td>PmmdzqPrVvPwwTWBwg</td>\n",
       "    </tr>\n",
       "    <tr>\n",
       "      <th>3</th>\n",
       "      <td>wMqvLMZHhHMvwLHjbvcjnnSBnvTQFn</td>\n",
       "    </tr>\n",
       "    <tr>\n",
       "      <th>4</th>\n",
       "      <td>ttgJtRGJQctTZtZT</td>\n",
       "    </tr>\n",
       "    <tr>\n",
       "      <th>5</th>\n",
       "      <td>CrZsJsPPZsGzwwsLwLmpwMDw</td>\n",
       "    </tr>\n",
       "  </tbody>\n",
       "</table>\n",
       "</div>"
      ],
      "text/plain": [
       "                       input_string\n",
       "0          vJrwpWtwJgWrhcsFMMfFFhFp\n",
       "1  jqHRNqRjqzjGDLGLrsFMfFZSrLrFZsSL\n",
       "2                PmmdzqPrVvPwwTWBwg\n",
       "3    wMqvLMZHhHMvwLHjbvcjnnSBnvTQFn\n",
       "4                  ttgJtRGJQctTZtZT\n",
       "5          CrZsJsPPZsGzwwsLwLmpwMDw"
      ]
     },
     "execution_count": 10,
     "metadata": {},
     "output_type": "execute_result"
    }
   ],
   "source": [
    "df = pd.read_csv('example.txt', header=None, names=['input_string']) # ešte index_col parameter sa používa často...\n",
    "df"
   ]
  },
  {
   "cell_type": "code",
   "execution_count": 11,
   "metadata": {},
   "outputs": [
    {
     "data": {
      "text/html": [
       "<div>\n",
       "<style scoped>\n",
       "    .dataframe tbody tr th:only-of-type {\n",
       "        vertical-align: middle;\n",
       "    }\n",
       "\n",
       "    .dataframe tbody tr th {\n",
       "        vertical-align: top;\n",
       "    }\n",
       "\n",
       "    .dataframe thead th {\n",
       "        text-align: right;\n",
       "    }\n",
       "</style>\n",
       "<table border=\"1\" class=\"dataframe\">\n",
       "  <thead>\n",
       "    <tr style=\"text-align: right;\">\n",
       "      <th></th>\n",
       "      <th>input_string</th>\n",
       "      <th>part1</th>\n",
       "      <th>part2</th>\n",
       "    </tr>\n",
       "  </thead>\n",
       "  <tbody>\n",
       "    <tr>\n",
       "      <th>0</th>\n",
       "      <td>vJrwpWtwJgWrhcsFMMfFFhFp</td>\n",
       "      <td>vJrwpWtwJgWr</td>\n",
       "      <td>hcsFMMfFFhFp</td>\n",
       "    </tr>\n",
       "    <tr>\n",
       "      <th>1</th>\n",
       "      <td>jqHRNqRjqzjGDLGLrsFMfFZSrLrFZsSL</td>\n",
       "      <td>jqHRNqRjqzjGDLGL</td>\n",
       "      <td>rsFMfFZSrLrFZsSL</td>\n",
       "    </tr>\n",
       "    <tr>\n",
       "      <th>2</th>\n",
       "      <td>PmmdzqPrVvPwwTWBwg</td>\n",
       "      <td>PmmdzqPrV</td>\n",
       "      <td>vPwwTWBwg</td>\n",
       "    </tr>\n",
       "    <tr>\n",
       "      <th>3</th>\n",
       "      <td>wMqvLMZHhHMvwLHjbvcjnnSBnvTQFn</td>\n",
       "      <td>wMqvLMZHhHMvwLH</td>\n",
       "      <td>jbvcjnnSBnvTQFn</td>\n",
       "    </tr>\n",
       "    <tr>\n",
       "      <th>4</th>\n",
       "      <td>ttgJtRGJQctTZtZT</td>\n",
       "      <td>ttgJtRGJ</td>\n",
       "      <td>QctTZtZT</td>\n",
       "    </tr>\n",
       "    <tr>\n",
       "      <th>5</th>\n",
       "      <td>CrZsJsPPZsGzwwsLwLmpwMDw</td>\n",
       "      <td>CrZsJsPPZsGz</td>\n",
       "      <td>wwsLwLmpwMDw</td>\n",
       "    </tr>\n",
       "  </tbody>\n",
       "</table>\n",
       "</div>"
      ],
      "text/plain": [
       "                       input_string             part1             part2\n",
       "0          vJrwpWtwJgWrhcsFMMfFFhFp      vJrwpWtwJgWr      hcsFMMfFFhFp\n",
       "1  jqHRNqRjqzjGDLGLrsFMfFZSrLrFZsSL  jqHRNqRjqzjGDLGL  rsFMfFZSrLrFZsSL\n",
       "2                PmmdzqPrVvPwwTWBwg         PmmdzqPrV         vPwwTWBwg\n",
       "3    wMqvLMZHhHMvwLHjbvcjnnSBnvTQFn   wMqvLMZHhHMvwLH   jbvcjnnSBnvTQFn\n",
       "4                  ttgJtRGJQctTZtZT          ttgJtRGJ          QctTZtZT\n",
       "5          CrZsJsPPZsGzwwsLwLmpwMDw      CrZsJsPPZsGz      wwsLwLmpwMDw"
      ]
     },
     "execution_count": 11,
     "metadata": {},
     "output_type": "execute_result"
    }
   ],
   "source": [
    "df['part1']=df['input_string'].apply(lambda x:x[ : len(x)//2])\n",
    "df['part2']=df['input_string'].apply(lambda x:x[len(x)//2 : ])\n",
    "df"
   ]
  },
  {
   "cell_type": "code",
   "execution_count": 12,
   "metadata": {},
   "outputs": [
    {
     "data": {
      "text/html": [
       "<div>\n",
       "<style scoped>\n",
       "    .dataframe tbody tr th:only-of-type {\n",
       "        vertical-align: middle;\n",
       "    }\n",
       "\n",
       "    .dataframe tbody tr th {\n",
       "        vertical-align: top;\n",
       "    }\n",
       "\n",
       "    .dataframe thead th {\n",
       "        text-align: right;\n",
       "    }\n",
       "</style>\n",
       "<table border=\"1\" class=\"dataframe\">\n",
       "  <thead>\n",
       "    <tr style=\"text-align: right;\">\n",
       "      <th></th>\n",
       "      <th>input_string</th>\n",
       "      <th>part1</th>\n",
       "      <th>part2</th>\n",
       "      <th>set1</th>\n",
       "      <th>set2</th>\n",
       "    </tr>\n",
       "  </thead>\n",
       "  <tbody>\n",
       "    <tr>\n",
       "      <th>0</th>\n",
       "      <td>vJrwpWtwJgWrhcsFMMfFFhFp</td>\n",
       "      <td>vJrwpWtwJgWr</td>\n",
       "      <td>hcsFMMfFFhFp</td>\n",
       "      <td>{r, g, J, v, t, w, W, p}</td>\n",
       "      <td>{f, h, M, F, c, p, s}</td>\n",
       "    </tr>\n",
       "    <tr>\n",
       "      <th>1</th>\n",
       "      <td>jqHRNqRjqzjGDLGLrsFMfFZSrLrFZsSL</td>\n",
       "      <td>jqHRNqRjqzjGDLGL</td>\n",
       "      <td>rsFMfFZSrLrFZsSL</td>\n",
       "      <td>{G, D, z, R, N, H, j, q, L}</td>\n",
       "      <td>{f, r, M, Z, S, L, F, s}</td>\n",
       "    </tr>\n",
       "    <tr>\n",
       "      <th>2</th>\n",
       "      <td>PmmdzqPrVvPwwTWBwg</td>\n",
       "      <td>PmmdzqPrV</td>\n",
       "      <td>vPwwTWBwg</td>\n",
       "      <td>{r, z, P, d, q, m, V}</td>\n",
       "      <td>{g, B, P, v, w, W, T}</td>\n",
       "    </tr>\n",
       "    <tr>\n",
       "      <th>3</th>\n",
       "      <td>wMqvLMZHhHMvwLHjbvcjnnSBnvTQFn</td>\n",
       "      <td>wMqvLMZHhHMvwLH</td>\n",
       "      <td>jbvcjnnSBnvTQFn</td>\n",
       "      <td>{h, M, Z, H, v, q, w, L}</td>\n",
       "      <td>{B, Q, v, n, j, S, T, F, c, b}</td>\n",
       "    </tr>\n",
       "    <tr>\n",
       "      <th>4</th>\n",
       "      <td>ttgJtRGJQctTZtZT</td>\n",
       "      <td>ttgJtRGJ</td>\n",
       "      <td>QctTZtZT</td>\n",
       "      <td>{G, g, R, J, t}</td>\n",
       "      <td>{Z, Q, t, T, c}</td>\n",
       "    </tr>\n",
       "    <tr>\n",
       "      <th>5</th>\n",
       "      <td>CrZsJsPPZsGzwwsLwLmpwMDw</td>\n",
       "      <td>CrZsJsPPZsGz</td>\n",
       "      <td>wwsLwLmpwMDw</td>\n",
       "      <td>{G, r, z, Z, J, C, P, s}</td>\n",
       "      <td>{D, M, m, w, L, p, s}</td>\n",
       "    </tr>\n",
       "  </tbody>\n",
       "</table>\n",
       "</div>"
      ],
      "text/plain": [
       "                       input_string             part1             part2  \\\n",
       "0          vJrwpWtwJgWrhcsFMMfFFhFp      vJrwpWtwJgWr      hcsFMMfFFhFp   \n",
       "1  jqHRNqRjqzjGDLGLrsFMfFZSrLrFZsSL  jqHRNqRjqzjGDLGL  rsFMfFZSrLrFZsSL   \n",
       "2                PmmdzqPrVvPwwTWBwg         PmmdzqPrV         vPwwTWBwg   \n",
       "3    wMqvLMZHhHMvwLHjbvcjnnSBnvTQFn   wMqvLMZHhHMvwLH   jbvcjnnSBnvTQFn   \n",
       "4                  ttgJtRGJQctTZtZT          ttgJtRGJ          QctTZtZT   \n",
       "5          CrZsJsPPZsGzwwsLwLmpwMDw      CrZsJsPPZsGz      wwsLwLmpwMDw   \n",
       "\n",
       "                          set1                            set2  \n",
       "0     {r, g, J, v, t, w, W, p}           {f, h, M, F, c, p, s}  \n",
       "1  {G, D, z, R, N, H, j, q, L}        {f, r, M, Z, S, L, F, s}  \n",
       "2        {r, z, P, d, q, m, V}           {g, B, P, v, w, W, T}  \n",
       "3     {h, M, Z, H, v, q, w, L}  {B, Q, v, n, j, S, T, F, c, b}  \n",
       "4              {G, g, R, J, t}                 {Z, Q, t, T, c}  \n",
       "5     {G, r, z, Z, J, C, P, s}           {D, M, m, w, L, p, s}  "
      ]
     },
     "execution_count": 12,
     "metadata": {},
     "output_type": "execute_result"
    }
   ],
   "source": [
    "df['set1']=df['part1'].apply(set)\n",
    "df['set2']=df['part2'].apply(set)\n",
    "df"
   ]
  },
  {
   "cell_type": "code",
   "execution_count": 13,
   "metadata": {},
   "outputs": [
    {
     "data": {
      "text/html": [
       "<div>\n",
       "<style scoped>\n",
       "    .dataframe tbody tr th:only-of-type {\n",
       "        vertical-align: middle;\n",
       "    }\n",
       "\n",
       "    .dataframe tbody tr th {\n",
       "        vertical-align: top;\n",
       "    }\n",
       "\n",
       "    .dataframe thead th {\n",
       "        text-align: right;\n",
       "    }\n",
       "</style>\n",
       "<table border=\"1\" class=\"dataframe\">\n",
       "  <thead>\n",
       "    <tr style=\"text-align: right;\">\n",
       "      <th></th>\n",
       "      <th>input_string</th>\n",
       "      <th>part1</th>\n",
       "      <th>part2</th>\n",
       "      <th>set1</th>\n",
       "      <th>set2</th>\n",
       "      <th>intersect</th>\n",
       "    </tr>\n",
       "  </thead>\n",
       "  <tbody>\n",
       "    <tr>\n",
       "      <th>0</th>\n",
       "      <td>vJrwpWtwJgWrhcsFMMfFFhFp</td>\n",
       "      <td>vJrwpWtwJgWr</td>\n",
       "      <td>hcsFMMfFFhFp</td>\n",
       "      <td>{r, g, J, v, t, w, W, p}</td>\n",
       "      <td>{f, h, M, F, c, p, s}</td>\n",
       "      <td>{p}</td>\n",
       "    </tr>\n",
       "    <tr>\n",
       "      <th>1</th>\n",
       "      <td>jqHRNqRjqzjGDLGLrsFMfFZSrLrFZsSL</td>\n",
       "      <td>jqHRNqRjqzjGDLGL</td>\n",
       "      <td>rsFMfFZSrLrFZsSL</td>\n",
       "      <td>{G, D, z, R, N, H, j, q, L}</td>\n",
       "      <td>{f, r, M, Z, S, L, F, s}</td>\n",
       "      <td>{L}</td>\n",
       "    </tr>\n",
       "    <tr>\n",
       "      <th>2</th>\n",
       "      <td>PmmdzqPrVvPwwTWBwg</td>\n",
       "      <td>PmmdzqPrV</td>\n",
       "      <td>vPwwTWBwg</td>\n",
       "      <td>{r, z, P, d, q, m, V}</td>\n",
       "      <td>{g, B, P, v, w, W, T}</td>\n",
       "      <td>{P}</td>\n",
       "    </tr>\n",
       "    <tr>\n",
       "      <th>3</th>\n",
       "      <td>wMqvLMZHhHMvwLHjbvcjnnSBnvTQFn</td>\n",
       "      <td>wMqvLMZHhHMvwLH</td>\n",
       "      <td>jbvcjnnSBnvTQFn</td>\n",
       "      <td>{h, M, Z, H, v, q, w, L}</td>\n",
       "      <td>{B, Q, v, n, j, S, T, F, c, b}</td>\n",
       "      <td>{v}</td>\n",
       "    </tr>\n",
       "    <tr>\n",
       "      <th>4</th>\n",
       "      <td>ttgJtRGJQctTZtZT</td>\n",
       "      <td>ttgJtRGJ</td>\n",
       "      <td>QctTZtZT</td>\n",
       "      <td>{G, g, R, J, t}</td>\n",
       "      <td>{Z, Q, t, T, c}</td>\n",
       "      <td>{t}</td>\n",
       "    </tr>\n",
       "    <tr>\n",
       "      <th>5</th>\n",
       "      <td>CrZsJsPPZsGzwwsLwLmpwMDw</td>\n",
       "      <td>CrZsJsPPZsGz</td>\n",
       "      <td>wwsLwLmpwMDw</td>\n",
       "      <td>{G, r, z, Z, J, C, P, s}</td>\n",
       "      <td>{D, M, m, w, L, p, s}</td>\n",
       "      <td>{s}</td>\n",
       "    </tr>\n",
       "  </tbody>\n",
       "</table>\n",
       "</div>"
      ],
      "text/plain": [
       "                       input_string             part1             part2  \\\n",
       "0          vJrwpWtwJgWrhcsFMMfFFhFp      vJrwpWtwJgWr      hcsFMMfFFhFp   \n",
       "1  jqHRNqRjqzjGDLGLrsFMfFZSrLrFZsSL  jqHRNqRjqzjGDLGL  rsFMfFZSrLrFZsSL   \n",
       "2                PmmdzqPrVvPwwTWBwg         PmmdzqPrV         vPwwTWBwg   \n",
       "3    wMqvLMZHhHMvwLHjbvcjnnSBnvTQFn   wMqvLMZHhHMvwLH   jbvcjnnSBnvTQFn   \n",
       "4                  ttgJtRGJQctTZtZT          ttgJtRGJ          QctTZtZT   \n",
       "5          CrZsJsPPZsGzwwsLwLmpwMDw      CrZsJsPPZsGz      wwsLwLmpwMDw   \n",
       "\n",
       "                          set1                            set2 intersect  \n",
       "0     {r, g, J, v, t, w, W, p}           {f, h, M, F, c, p, s}       {p}  \n",
       "1  {G, D, z, R, N, H, j, q, L}        {f, r, M, Z, S, L, F, s}       {L}  \n",
       "2        {r, z, P, d, q, m, V}           {g, B, P, v, w, W, T}       {P}  \n",
       "3     {h, M, Z, H, v, q, w, L}  {B, Q, v, n, j, S, T, F, c, b}       {v}  \n",
       "4              {G, g, R, J, t}                 {Z, Q, t, T, c}       {t}  \n",
       "5     {G, r, z, Z, J, C, P, s}           {D, M, m, w, L, p, s}       {s}  "
      ]
     },
     "execution_count": 13,
     "metadata": {},
     "output_type": "execute_result"
    }
   ],
   "source": [
    "df['intersect'] = df.apply(lambda x: x['set1'].intersection(x['set2']) , axis=1)\n",
    "df"
   ]
  },
  {
   "cell_type": "code",
   "execution_count": 14,
   "metadata": {},
   "outputs": [
    {
     "data": {
      "text/plain": [
       "{'a': 1,\n",
       " 'b': 2,\n",
       " 'c': 3,\n",
       " 'd': 4,\n",
       " 'e': 5,\n",
       " 'f': 6,\n",
       " 'g': 7,\n",
       " 'h': 8,\n",
       " 'i': 9,\n",
       " 'j': 10,\n",
       " 'k': 11,\n",
       " 'l': 12,\n",
       " 'm': 13,\n",
       " 'n': 14,\n",
       " 'o': 15,\n",
       " 'p': 16,\n",
       " 'q': 17,\n",
       " 'r': 18,\n",
       " 's': 19,\n",
       " 't': 20,\n",
       " 'u': 21,\n",
       " 'v': 22,\n",
       " 'w': 23,\n",
       " 'x': 24,\n",
       " 'y': 25,\n",
       " 'z': 26,\n",
       " 'A': 27,\n",
       " 'B': 28,\n",
       " 'C': 29,\n",
       " 'D': 30,\n",
       " 'E': 31,\n",
       " 'F': 32,\n",
       " 'G': 33,\n",
       " 'H': 34,\n",
       " 'I': 35,\n",
       " 'J': 36,\n",
       " 'K': 37,\n",
       " 'L': 38,\n",
       " 'M': 39,\n",
       " 'N': 40,\n",
       " 'O': 41,\n",
       " 'P': 42,\n",
       " 'Q': 43,\n",
       " 'R': 44,\n",
       " 'S': 45,\n",
       " 'T': 46,\n",
       " 'U': 47,\n",
       " 'V': 48,\n",
       " 'W': 49,\n",
       " 'X': 50,\n",
       " 'Y': 51,\n",
       " 'Z': 52}"
      ]
     },
     "execution_count": 14,
     "metadata": {},
     "output_type": "execute_result"
    }
   ],
   "source": [
    "value_mapper = { v:k for k,v in enumerate(string.ascii_letters, start=1) }\n",
    "value_mapper"
   ]
  },
  {
   "cell_type": "code",
   "execution_count": 15,
   "metadata": {},
   "outputs": [
    {
     "data": {
      "text/html": [
       "<div>\n",
       "<style scoped>\n",
       "    .dataframe tbody tr th:only-of-type {\n",
       "        vertical-align: middle;\n",
       "    }\n",
       "\n",
       "    .dataframe tbody tr th {\n",
       "        vertical-align: top;\n",
       "    }\n",
       "\n",
       "    .dataframe thead th {\n",
       "        text-align: right;\n",
       "    }\n",
       "</style>\n",
       "<table border=\"1\" class=\"dataframe\">\n",
       "  <thead>\n",
       "    <tr style=\"text-align: right;\">\n",
       "      <th></th>\n",
       "      <th>input_string</th>\n",
       "      <th>part1</th>\n",
       "      <th>part2</th>\n",
       "      <th>set1</th>\n",
       "      <th>set2</th>\n",
       "      <th>intersect</th>\n",
       "      <th>value</th>\n",
       "    </tr>\n",
       "  </thead>\n",
       "  <tbody>\n",
       "    <tr>\n",
       "      <th>0</th>\n",
       "      <td>vJrwpWtwJgWrhcsFMMfFFhFp</td>\n",
       "      <td>vJrwpWtwJgWr</td>\n",
       "      <td>hcsFMMfFFhFp</td>\n",
       "      <td>{r, g, J, v, t, w, W, p}</td>\n",
       "      <td>{f, h, M, F, c, p, s}</td>\n",
       "      <td>{p}</td>\n",
       "      <td>16</td>\n",
       "    </tr>\n",
       "    <tr>\n",
       "      <th>1</th>\n",
       "      <td>jqHRNqRjqzjGDLGLrsFMfFZSrLrFZsSL</td>\n",
       "      <td>jqHRNqRjqzjGDLGL</td>\n",
       "      <td>rsFMfFZSrLrFZsSL</td>\n",
       "      <td>{G, D, z, R, N, H, j, q, L}</td>\n",
       "      <td>{f, r, M, Z, S, L, F, s}</td>\n",
       "      <td>{L}</td>\n",
       "      <td>38</td>\n",
       "    </tr>\n",
       "    <tr>\n",
       "      <th>2</th>\n",
       "      <td>PmmdzqPrVvPwwTWBwg</td>\n",
       "      <td>PmmdzqPrV</td>\n",
       "      <td>vPwwTWBwg</td>\n",
       "      <td>{r, z, P, d, q, m, V}</td>\n",
       "      <td>{g, B, P, v, w, W, T}</td>\n",
       "      <td>{P}</td>\n",
       "      <td>42</td>\n",
       "    </tr>\n",
       "    <tr>\n",
       "      <th>3</th>\n",
       "      <td>wMqvLMZHhHMvwLHjbvcjnnSBnvTQFn</td>\n",
       "      <td>wMqvLMZHhHMvwLH</td>\n",
       "      <td>jbvcjnnSBnvTQFn</td>\n",
       "      <td>{h, M, Z, H, v, q, w, L}</td>\n",
       "      <td>{B, Q, v, n, j, S, T, F, c, b}</td>\n",
       "      <td>{v}</td>\n",
       "      <td>22</td>\n",
       "    </tr>\n",
       "    <tr>\n",
       "      <th>4</th>\n",
       "      <td>ttgJtRGJQctTZtZT</td>\n",
       "      <td>ttgJtRGJ</td>\n",
       "      <td>QctTZtZT</td>\n",
       "      <td>{G, g, R, J, t}</td>\n",
       "      <td>{Z, Q, t, T, c}</td>\n",
       "      <td>{t}</td>\n",
       "      <td>20</td>\n",
       "    </tr>\n",
       "    <tr>\n",
       "      <th>5</th>\n",
       "      <td>CrZsJsPPZsGzwwsLwLmpwMDw</td>\n",
       "      <td>CrZsJsPPZsGz</td>\n",
       "      <td>wwsLwLmpwMDw</td>\n",
       "      <td>{G, r, z, Z, J, C, P, s}</td>\n",
       "      <td>{D, M, m, w, L, p, s}</td>\n",
       "      <td>{s}</td>\n",
       "      <td>19</td>\n",
       "    </tr>\n",
       "  </tbody>\n",
       "</table>\n",
       "</div>"
      ],
      "text/plain": [
       "                       input_string             part1             part2  \\\n",
       "0          vJrwpWtwJgWrhcsFMMfFFhFp      vJrwpWtwJgWr      hcsFMMfFFhFp   \n",
       "1  jqHRNqRjqzjGDLGLrsFMfFZSrLrFZsSL  jqHRNqRjqzjGDLGL  rsFMfFZSrLrFZsSL   \n",
       "2                PmmdzqPrVvPwwTWBwg         PmmdzqPrV         vPwwTWBwg   \n",
       "3    wMqvLMZHhHMvwLHjbvcjnnSBnvTQFn   wMqvLMZHhHMvwLH   jbvcjnnSBnvTQFn   \n",
       "4                  ttgJtRGJQctTZtZT          ttgJtRGJ          QctTZtZT   \n",
       "5          CrZsJsPPZsGzwwsLwLmpwMDw      CrZsJsPPZsGz      wwsLwLmpwMDw   \n",
       "\n",
       "                          set1                            set2 intersect  \\\n",
       "0     {r, g, J, v, t, w, W, p}           {f, h, M, F, c, p, s}       {p}   \n",
       "1  {G, D, z, R, N, H, j, q, L}        {f, r, M, Z, S, L, F, s}       {L}   \n",
       "2        {r, z, P, d, q, m, V}           {g, B, P, v, w, W, T}       {P}   \n",
       "3     {h, M, Z, H, v, q, w, L}  {B, Q, v, n, j, S, T, F, c, b}       {v}   \n",
       "4              {G, g, R, J, t}                 {Z, Q, t, T, c}       {t}   \n",
       "5     {G, r, z, Z, J, C, P, s}           {D, M, m, w, L, p, s}       {s}   \n",
       "\n",
       "   value  \n",
       "0     16  \n",
       "1     38  \n",
       "2     42  \n",
       "3     22  \n",
       "4     20  \n",
       "5     19  "
      ]
     },
     "execution_count": 15,
     "metadata": {},
     "output_type": "execute_result"
    }
   ],
   "source": [
    "df['value'] = df['intersect'].map(lambda x:value_mapper[str(*x)]) # could also by done with .apply(lambda ...)\n",
    "df"
   ]
  },
  {
   "cell_type": "code",
   "execution_count": 16,
   "metadata": {},
   "outputs": [
    {
     "name": "stdout",
     "output_type": "stream",
     "text": [
      "Part A result:\n",
      "157\n"
     ]
    }
   ],
   "source": [
    "result = df['value'].sum()\n",
    "print(f'Part A result:\\n{result}')"
   ]
  },
  {
   "cell_type": "markdown",
   "metadata": {},
   "source": [
    "# part B:"
   ]
  },
  {
   "cell_type": "code",
   "execution_count": 17,
   "metadata": {},
   "outputs": [
    {
     "data": {
      "text/html": [
       "<div>\n",
       "<style scoped>\n",
       "    .dataframe tbody tr th:only-of-type {\n",
       "        vertical-align: middle;\n",
       "    }\n",
       "\n",
       "    .dataframe tbody tr th {\n",
       "        vertical-align: top;\n",
       "    }\n",
       "\n",
       "    .dataframe thead th {\n",
       "        text-align: right;\n",
       "    }\n",
       "</style>\n",
       "<table border=\"1\" class=\"dataframe\">\n",
       "  <thead>\n",
       "    <tr style=\"text-align: right;\">\n",
       "      <th></th>\n",
       "      <th>input_string</th>\n",
       "    </tr>\n",
       "  </thead>\n",
       "  <tbody>\n",
       "    <tr>\n",
       "      <th>0</th>\n",
       "      <td>vJrwpWtwJgWrhcsFMMfFFhFp</td>\n",
       "    </tr>\n",
       "    <tr>\n",
       "      <th>1</th>\n",
       "      <td>jqHRNqRjqzjGDLGLrsFMfFZSrLrFZsSL</td>\n",
       "    </tr>\n",
       "    <tr>\n",
       "      <th>2</th>\n",
       "      <td>PmmdzqPrVvPwwTWBwg</td>\n",
       "    </tr>\n",
       "    <tr>\n",
       "      <th>3</th>\n",
       "      <td>wMqvLMZHhHMvwLHjbvcjnnSBnvTQFn</td>\n",
       "    </tr>\n",
       "    <tr>\n",
       "      <th>4</th>\n",
       "      <td>ttgJtRGJQctTZtZT</td>\n",
       "    </tr>\n",
       "    <tr>\n",
       "      <th>5</th>\n",
       "      <td>CrZsJsPPZsGzwwsLwLmpwMDw</td>\n",
       "    </tr>\n",
       "  </tbody>\n",
       "</table>\n",
       "</div>"
      ],
      "text/plain": [
       "                       input_string\n",
       "0          vJrwpWtwJgWrhcsFMMfFFhFp\n",
       "1  jqHRNqRjqzjGDLGLrsFMfFZSrLrFZsSL\n",
       "2                PmmdzqPrVvPwwTWBwg\n",
       "3    wMqvLMZHhHMvwLHjbvcjnnSBnvTQFn\n",
       "4                  ttgJtRGJQctTZtZT\n",
       "5          CrZsJsPPZsGzwwsLwLmpwMDw"
      ]
     },
     "execution_count": 17,
     "metadata": {},
     "output_type": "execute_result"
    }
   ],
   "source": [
    "df = pd.read_csv('example.txt', header=None, names=['input_string'])\n",
    "df"
   ]
  },
  {
   "cell_type": "code",
   "execution_count": 18,
   "metadata": {},
   "outputs": [
    {
     "data": {
      "text/html": [
       "<div>\n",
       "<style scoped>\n",
       "    .dataframe tbody tr th:only-of-type {\n",
       "        vertical-align: middle;\n",
       "    }\n",
       "\n",
       "    .dataframe tbody tr th {\n",
       "        vertical-align: top;\n",
       "    }\n",
       "\n",
       "    .dataframe thead th {\n",
       "        text-align: right;\n",
       "    }\n",
       "</style>\n",
       "<table border=\"1\" class=\"dataframe\">\n",
       "  <thead>\n",
       "    <tr style=\"text-align: right;\">\n",
       "      <th></th>\n",
       "      <th>input_string</th>\n",
       "      <th>sets</th>\n",
       "    </tr>\n",
       "  </thead>\n",
       "  <tbody>\n",
       "    <tr>\n",
       "      <th>0</th>\n",
       "      <td>vJrwpWtwJgWrhcsFMMfFFhFp</td>\n",
       "      <td>{f, r, h, g, M, J, v, t, c, w, F, W, p, s}</td>\n",
       "    </tr>\n",
       "    <tr>\n",
       "      <th>1</th>\n",
       "      <td>jqHRNqRjqzjGDLGLrsFMfFZSrLrFZsSL</td>\n",
       "      <td>{G, D, r, f, z, R, N, H, M, Z, j, q, S, L, F, s}</td>\n",
       "    </tr>\n",
       "    <tr>\n",
       "      <th>2</th>\n",
       "      <td>PmmdzqPrVvPwwTWBwg</td>\n",
       "      <td>{r, z, B, g, P, v, d, q, w, m, V, W, T}</td>\n",
       "    </tr>\n",
       "    <tr>\n",
       "      <th>3</th>\n",
       "      <td>wMqvLMZHhHMvwLHjbvcjnnSBnvTQFn</td>\n",
       "      <td>{h, M, Z, H, B, T, Q, v, j, n, q, S, w, F, L, ...</td>\n",
       "    </tr>\n",
       "    <tr>\n",
       "      <th>4</th>\n",
       "      <td>ttgJtRGJQctTZtZT</td>\n",
       "      <td>{G, g, R, Z, Q, J, t, T, c}</td>\n",
       "    </tr>\n",
       "    <tr>\n",
       "      <th>5</th>\n",
       "      <td>CrZsJsPPZsGzwwsLwLmpwMDw</td>\n",
       "      <td>{G, D, r, z, Z, M, J, C, P, m, w, L, p, s}</td>\n",
       "    </tr>\n",
       "  </tbody>\n",
       "</table>\n",
       "</div>"
      ],
      "text/plain": [
       "                       input_string  \\\n",
       "0          vJrwpWtwJgWrhcsFMMfFFhFp   \n",
       "1  jqHRNqRjqzjGDLGLrsFMfFZSrLrFZsSL   \n",
       "2                PmmdzqPrVvPwwTWBwg   \n",
       "3    wMqvLMZHhHMvwLHjbvcjnnSBnvTQFn   \n",
       "4                  ttgJtRGJQctTZtZT   \n",
       "5          CrZsJsPPZsGzwwsLwLmpwMDw   \n",
       "\n",
       "                                                sets  \n",
       "0         {f, r, h, g, M, J, v, t, c, w, F, W, p, s}  \n",
       "1   {G, D, r, f, z, R, N, H, M, Z, j, q, S, L, F, s}  \n",
       "2            {r, z, B, g, P, v, d, q, w, m, V, W, T}  \n",
       "3  {h, M, Z, H, B, T, Q, v, j, n, q, S, w, F, L, ...  \n",
       "4                        {G, g, R, Z, Q, J, t, T, c}  \n",
       "5         {G, D, r, z, Z, M, J, C, P, m, w, L, p, s}  "
      ]
     },
     "execution_count": 18,
     "metadata": {},
     "output_type": "execute_result"
    }
   ],
   "source": [
    "df['sets']=df['input_string'].apply(set)\n",
    "df"
   ]
  },
  {
   "cell_type": "code",
   "execution_count": 19,
   "metadata": {},
   "outputs": [
    {
     "data": {
      "text/plain": [
       "0    [{f, r, h, g, M, J, v, t, c, w, F, W, p, s}, {...\n",
       "1    [{h, M, Z, H, B, T, Q, v, j, n, q, S, w, F, L,...\n",
       "Name: sets, dtype: object"
      ]
     },
     "execution_count": 19,
     "metadata": {},
     "output_type": "execute_result"
    }
   ],
   "source": [
    "df2 = df.groupby(df.index // 3)['sets'].agg(lambda x:list(x))\n",
    "df2"
   ]
  },
  {
   "cell_type": "code",
   "execution_count": 20,
   "metadata": {},
   "outputs": [
    {
     "data": {
      "text/plain": [
       "0    {r}\n",
       "1    {Z}\n",
       "Name: sets, dtype: object"
      ]
     },
     "execution_count": 20,
     "metadata": {},
     "output_type": "execute_result"
    }
   ],
   "source": [
    "df2 = df2.apply(lambda x:x[0] & x[1] & x[2] )\n",
    "df2"
   ]
  },
  {
   "cell_type": "code",
   "execution_count": 21,
   "metadata": {},
   "outputs": [
    {
     "data": {
      "text/plain": [
       "0    r\n",
       "1    Z\n",
       "Name: sets, dtype: object"
      ]
     },
     "execution_count": 21,
     "metadata": {},
     "output_type": "execute_result"
    }
   ],
   "source": [
    "df2 = df2.apply(lambda x:str(*x))\n",
    "df2"
   ]
  },
  {
   "cell_type": "code",
   "execution_count": 22,
   "metadata": {},
   "outputs": [
    {
     "data": {
      "text/plain": [
       "0    18\n",
       "1    52\n",
       "Name: sets, dtype: int64"
      ]
     },
     "execution_count": 22,
     "metadata": {},
     "output_type": "execute_result"
    }
   ],
   "source": [
    "df2 = df2.map(value_mapper)\n",
    "df2"
   ]
  },
  {
   "cell_type": "code",
   "execution_count": 23,
   "metadata": {},
   "outputs": [
    {
     "name": "stdout",
     "output_type": "stream",
     "text": [
      "Part B result:\n",
      "70\n"
     ]
    }
   ],
   "source": [
    "result = df2.sum()\n",
    "print(f'Part B result:\\n{result}')"
   ]
  },
  {
   "cell_type": "code",
   "execution_count": null,
   "metadata": {},
   "outputs": [],
   "source": []
  }
 ],
 "metadata": {
  "kernelspec": {
   "display_name": "Python 3",
   "language": "python",
   "name": "python3"
  },
  "language_info": {
   "codemirror_mode": {
    "name": "ipython",
    "version": 3
   },
   "file_extension": ".py",
   "mimetype": "text/x-python",
   "name": "python",
   "nbconvert_exporter": "python",
   "pygments_lexer": "ipython3",
   "version": "3.11.1"
  },
  "orig_nbformat": 4
 },
 "nbformat": 4,
 "nbformat_minor": 2
}
